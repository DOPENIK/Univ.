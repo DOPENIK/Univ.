{
 "cells": [
  {
   "cell_type": "code",
   "execution_count": 1,
   "id": "smooth-astronomy",
   "metadata": {},
   "outputs": [],
   "source": [
    "# Get thinkdsp.py\n",
    "\n",
    "import os\n",
    "\n",
    "if not os.path.exists('thinkdsp.py'):\n",
    "    !wget https://github.com/AllenDowney/ThinkDSP/raw/master/code/thinkdsp.py"
   ]
  },
  {
   "cell_type": "code",
   "execution_count": 3,
   "id": "straight-terminology",
   "metadata": {},
   "outputs": [],
   "source": [
    "import numpy as np\n",
    "import matplotlib.pyplot as plt\n",
    "\n",
    "from thinkdsp import decorate\n",
    "from thinkdsp import Chirp"
   ]
  },
  {
   "cell_type": "code",
   "execution_count": 4,
   "id": "cutting-purchase",
   "metadata": {},
   "outputs": [],
   "source": [
    "def plot_spectrogram(wave, seg_length):\n",
    "    \"\"\"\n",
    "    \"\"\"\n",
    "    spectrogram = wave.make_spectrogram(seg_length)\n",
    "    print('Time resolution (s)', spectrogram.time_res)\n",
    "    print('Frequency resolution (Hz)', spectrogram.freq_res)\n",
    "    spectrogram.plot(high=700)\n",
    "    decorate(xlabel='Time(s)', ylabel='Frequency (Hz)')"
   ]
  },
  {
   "cell_type": "code",
   "execution_count": 10,
   "id": "spectacular-momentum",
   "metadata": {},
   "outputs": [
    {
     "name": "stdout",
     "output_type": "stream",
     "text": [
      "Time resolution (s) 0.046439909297052155\n",
      "Frequency resolution (Hz) 21.533203125\n"
     ]
    },
    {
     "data": {
      "image/png": "[encoded data removed]",
      "text/plain": [
       "<Figure size 432x288 with 1 Axes>"
      ]
     },
     "metadata": {
      "needs_background": "light"
     },
     "output_type": "display_data"
    }
   ],
   "source": [
    "signal = Chirp(start=2500, end=3000)\n",
    "wave = signal.make_wave(duration=1, framerate=11025)\n",
    "plot_spectrogram(wave, 512)"
   ]
  },
  {
   "cell_type": "code",
   "execution_count": null,
   "id": "chief-berlin",
   "metadata": {},
   "outputs": [],
   "source": []
  }
 ],
 "metadata": {
  "kernelspec": {
   "display_name": "Python 3",
   "language": "python",
   "name": "python3"
  },
  "language_info": {
   "codemirror_mode": {
    "name": "ipython",
    "version": 3
   },
   "file_extension": ".py",
   "mimetype": "text/x-python",
   "name": "python",
   "nbconvert_exporter": "python",
   "pygments_lexer": "ipython3",
   "version": "3.8.5"
  }
 },
 "nbformat": 4,
 "nbformat_minor": 5
}
